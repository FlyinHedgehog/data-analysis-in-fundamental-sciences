{
 "cells": [
  {
   "cell_type": "markdown",
   "metadata": {},
   "source": [
    "# Exchange Rates"
   ]
  },
  {
   "cell_type": "code",
   "execution_count": 50,
   "metadata": {},
   "outputs": [],
   "source": [
    "from urllib.request import urlopen\n",
    "from xmltodict import parse\n",
    "import pandas as pd\n",
    "from matplotlib import pyplot as plt"
   ]
  },
  {
   "cell_type": "code",
   "execution_count": 51,
   "metadata": {},
   "outputs": [
    {
     "data": {
      "text/plain": [
       "{'gesmes:Envelope': {'@xmlns:gesmes': 'http://www.gesmes.org/xml/2002-08-01',\n",
       "  '@xmlns': 'http://www.ecb.int/vocabulary/2002-08-01/eurofxref',\n",
       "  'gesmes:subject': 'Reference rates',\n",
       "  'gesmes:Sender': {'gesmes:name': 'European Central Bank'},\n",
       "  'Cube': {'Cube': {'@time': '2022-10-07',\n",
       "    'Cube': [{'@currency': 'USD', '@rate': '0.9797'},\n",
       "     {'@currency': 'JPY', '@rate': '141.92'},\n",
       "     {'@currency': 'BGN', '@rate': '1.9558'},\n",
       "     {'@currency': 'CZK', '@rate': '24.517'},\n",
       "     {'@currency': 'DKK', '@rate': '7.4381'},\n",
       "     {'@currency': 'GBP', '@rate': '0.87383'},\n",
       "     {'@currency': 'HUF', '@rate': '423.85'},\n",
       "     {'@currency': 'PLN', '@rate': '4.8595'},\n",
       "     {'@currency': 'RON', '@rate': '4.9415'},\n",
       "     {'@currency': 'SEK', '@rate': '10.8555'},\n",
       "     {'@currency': 'CHF', '@rate': '0.9700'},\n",
       "     {'@currency': 'ISK', '@rate': '140.70'},\n",
       "     {'@currency': 'NOK', '@rate': '10.4498'},\n",
       "     {'@currency': 'HRK', '@rate': '7.5270'},\n",
       "     {'@currency': 'TRY', '@rate': '18.2090'},\n",
       "     {'@currency': 'AUD', '@rate': '1.5266'},\n",
       "     {'@currency': 'BRL', '@rate': '5.1075'},\n",
       "     {'@currency': 'CAD', '@rate': '1.3437'},\n",
       "     {'@currency': 'CNY', '@rate': '6.9715'},\n",
       "     {'@currency': 'HKD', '@rate': '7.6906'},\n",
       "     {'@currency': 'IDR', '@rate': '14933.14'},\n",
       "     {'@currency': 'ILS', '@rate': '3.4477'},\n",
       "     {'@currency': 'INR', '@rate': '80.5460'},\n",
       "     {'@currency': 'KRW', '@rate': '1381.42'},\n",
       "     {'@currency': 'MXN', '@rate': '19.6430'},\n",
       "     {'@currency': 'MYR', '@rate': '4.5556'},\n",
       "     {'@currency': 'NZD', '@rate': '1.7328'},\n",
       "     {'@currency': 'PHP', '@rate': '57.747'},\n",
       "     {'@currency': 'SGD', '@rate': '1.3996'},\n",
       "     {'@currency': 'THB', '@rate': '36.602'},\n",
       "     {'@currency': 'ZAR', '@rate': '17.6222'}]}}}}"
      ]
     },
     "execution_count": 51,
     "metadata": {},
     "output_type": "execute_result"
    }
   ],
   "source": [
    "with urlopen(\"http://www.ecb.europa.eu/stats/eurofxref/eurofxref-daily.xml\") as url:\n",
    "    raw = parse(url.read().decode('utf8'))\n",
    "\n",
    "raw"
   ]
  },
  {
   "cell_type": "code",
   "execution_count": 52,
   "metadata": {},
   "outputs": [
    {
     "data": {
      "text/plain": [
       "[{'@currency': 'USD', '@rate': '0.9797'},\n",
       " {'@currency': 'JPY', '@rate': '141.92'},\n",
       " {'@currency': 'BGN', '@rate': '1.9558'},\n",
       " {'@currency': 'CZK', '@rate': '24.517'},\n",
       " {'@currency': 'DKK', '@rate': '7.4381'},\n",
       " {'@currency': 'GBP', '@rate': '0.87383'},\n",
       " {'@currency': 'HUF', '@rate': '423.85'},\n",
       " {'@currency': 'PLN', '@rate': '4.8595'},\n",
       " {'@currency': 'RON', '@rate': '4.9415'},\n",
       " {'@currency': 'SEK', '@rate': '10.8555'},\n",
       " {'@currency': 'CHF', '@rate': '0.9700'},\n",
       " {'@currency': 'ISK', '@rate': '140.70'},\n",
       " {'@currency': 'NOK', '@rate': '10.4498'},\n",
       " {'@currency': 'HRK', '@rate': '7.5270'},\n",
       " {'@currency': 'TRY', '@rate': '18.2090'},\n",
       " {'@currency': 'AUD', '@rate': '1.5266'},\n",
       " {'@currency': 'BRL', '@rate': '5.1075'},\n",
       " {'@currency': 'CAD', '@rate': '1.3437'},\n",
       " {'@currency': 'CNY', '@rate': '6.9715'},\n",
       " {'@currency': 'HKD', '@rate': '7.6906'},\n",
       " {'@currency': 'IDR', '@rate': '14933.14'},\n",
       " {'@currency': 'ILS', '@rate': '3.4477'},\n",
       " {'@currency': 'INR', '@rate': '80.5460'},\n",
       " {'@currency': 'KRW', '@rate': '1381.42'},\n",
       " {'@currency': 'MXN', '@rate': '19.6430'},\n",
       " {'@currency': 'MYR', '@rate': '4.5556'},\n",
       " {'@currency': 'NZD', '@rate': '1.7328'},\n",
       " {'@currency': 'PHP', '@rate': '57.747'},\n",
       " {'@currency': 'SGD', '@rate': '1.3996'},\n",
       " {'@currency': 'THB', '@rate': '36.602'},\n",
       " {'@currency': 'ZAR', '@rate': '17.6222'}]"
      ]
     },
     "execution_count": 52,
     "metadata": {},
     "output_type": "execute_result"
    }
   ],
   "source": [
    "raw['gesmes:Envelope']['Cube']['Cube']['Cube']"
   ]
  },
  {
   "cell_type": "code",
   "execution_count": 53,
   "metadata": {},
   "outputs": [
    {
     "data": {
      "text/plain": [
       "{'USD': 0.9797,\n",
       " 'JPY': 141.92,\n",
       " 'BGN': 1.9558,\n",
       " 'CZK': 24.517,\n",
       " 'DKK': 7.4381,\n",
       " 'GBP': 0.87383,\n",
       " 'HUF': 423.85,\n",
       " 'PLN': 4.8595,\n",
       " 'RON': 4.9415,\n",
       " 'SEK': 10.8555,\n",
       " 'CHF': 0.97,\n",
       " 'ISK': 140.7,\n",
       " 'NOK': 10.4498,\n",
       " 'HRK': 7.527,\n",
       " 'TRY': 18.209,\n",
       " 'AUD': 1.5266,\n",
       " 'BRL': 5.1075,\n",
       " 'CAD': 1.3437,\n",
       " 'CNY': 6.9715,\n",
       " 'HKD': 7.6906,\n",
       " 'IDR': 14933.14,\n",
       " 'ILS': 3.4477,\n",
       " 'INR': 80.546,\n",
       " 'KRW': 1381.42,\n",
       " 'MXN': 19.643,\n",
       " 'MYR': 4.5556,\n",
       " 'NZD': 1.7328,\n",
       " 'PHP': 57.747,\n",
       " 'SGD': 1.3996,\n",
       " 'THB': 36.602,\n",
       " 'ZAR': 17.6222}"
      ]
     },
     "execution_count": 53,
     "metadata": {},
     "output_type": "execute_result"
    }
   ],
   "source": [
    "rates = {x['@currency']: float(x['@rate']) for x in raw['gesmes:Envelope']['Cube']['Cube']['Cube']}\n",
    "rates"
   ]
  },
  {
   "cell_type": "code",
   "execution_count": 54,
   "metadata": {},
   "outputs": [
    {
     "data": {
      "text/plain": [
       "18.209"
      ]
     },
     "execution_count": 54,
     "metadata": {},
     "output_type": "execute_result"
    }
   ],
   "source": [
    "rates['TRY']"
   ]
  },
  {
   "cell_type": "code",
   "execution_count": 55,
   "metadata": {},
   "outputs": [],
   "source": [
    "def getExchangeRates():\n",
    "    with urlopen(\"http://www.ecb.europa.eu/stats/eurofxref/eurofxref-daily.xml\") as conn:\n",
    "        raw = parse(conn.read().decode('utf8'))\n",
    "    rates = {x['@currency']: float(x['@rate']) for x in raw['gesmes:Envelope']['Cube']['Cube']['Cube']}\n",
    "    return(rates)"
   ]
  },
  {
   "cell_type": "code",
   "execution_count": 56,
   "metadata": {},
   "outputs": [
    {
     "data": {
      "text/plain": [
       "0.9797"
      ]
     },
     "execution_count": 56,
     "metadata": {},
     "output_type": "execute_result"
    }
   ],
   "source": [
    "rates = getExchangeRates()\n",
    "rates['USD']"
   ]
  },
  {
   "cell_type": "code",
   "execution_count": 57,
   "metadata": {},
   "outputs": [
    {
     "data": {
      "text/html": [
       "<div>\n",
       "<style scoped>\n",
       "    .dataframe tbody tr th:only-of-type {\n",
       "        vertical-align: middle;\n",
       "    }\n",
       "\n",
       "    .dataframe tbody tr th {\n",
       "        vertical-align: top;\n",
       "    }\n",
       "\n",
       "    .dataframe thead th {\n",
       "        text-align: right;\n",
       "    }\n",
       "</style>\n",
       "<table border=\"1\" class=\"dataframe\">\n",
       "  <thead>\n",
       "    <tr style=\"text-align: right;\">\n",
       "      <th></th>\n",
       "      <th>Date</th>\n",
       "      <th>Rate</th>\n",
       "    </tr>\n",
       "  </thead>\n",
       "  <tbody>\n",
       "    <tr>\n",
       "      <th>0</th>\n",
       "      <td>1999-01-04</td>\n",
       "      <td>1.8004</td>\n",
       "    </tr>\n",
       "    <tr>\n",
       "      <th>1</th>\n",
       "      <td>1999-01-05</td>\n",
       "      <td>1.7965</td>\n",
       "    </tr>\n",
       "    <tr>\n",
       "      <th>2</th>\n",
       "      <td>1999-01-06</td>\n",
       "      <td>1.7711</td>\n",
       "    </tr>\n",
       "    <tr>\n",
       "      <th>3</th>\n",
       "      <td>1999-01-07</td>\n",
       "      <td>1.7602</td>\n",
       "    </tr>\n",
       "    <tr>\n",
       "      <th>4</th>\n",
       "      <td>1999-01-08</td>\n",
       "      <td>1.7643</td>\n",
       "    </tr>\n",
       "    <tr>\n",
       "      <th>...</th>\n",
       "      <td>...</td>\n",
       "      <td>...</td>\n",
       "    </tr>\n",
       "    <tr>\n",
       "      <th>6145</th>\n",
       "      <td>2022-10-03</td>\n",
       "      <td>1.3412</td>\n",
       "    </tr>\n",
       "    <tr>\n",
       "      <th>6146</th>\n",
       "      <td>2022-10-04</td>\n",
       "      <td>1.3503</td>\n",
       "    </tr>\n",
       "    <tr>\n",
       "      <th>6147</th>\n",
       "      <td>2022-10-05</td>\n",
       "      <td>1.3493</td>\n",
       "    </tr>\n",
       "    <tr>\n",
       "      <th>6148</th>\n",
       "      <td>2022-10-06</td>\n",
       "      <td>1.3475</td>\n",
       "    </tr>\n",
       "    <tr>\n",
       "      <th>6149</th>\n",
       "      <td>2022-10-07</td>\n",
       "      <td>1.3437</td>\n",
       "    </tr>\n",
       "  </tbody>\n",
       "</table>\n",
       "<p>6150 rows × 2 columns</p>\n",
       "</div>"
      ],
      "text/plain": [
       "            Date    Rate\n",
       "0     1999-01-04  1.8004\n",
       "1     1999-01-05  1.7965\n",
       "2     1999-01-06  1.7711\n",
       "3     1999-01-07  1.7602\n",
       "4     1999-01-08  1.7643\n",
       "...          ...     ...\n",
       "6145  2022-10-03  1.3412\n",
       "6146  2022-10-04  1.3503\n",
       "6147  2022-10-05  1.3493\n",
       "6148  2022-10-06  1.3475\n",
       "6149  2022-10-07  1.3437\n",
       "\n",
       "[6150 rows x 2 columns]"
      ]
     },
     "execution_count": 57,
     "metadata": {},
     "output_type": "execute_result"
    }
   ],
   "source": [
    "from email import message\n",
    "\n",
    "\n",
    "def QueryECB(Cfrom, Cto):\n",
    "    with urlopen(\"https://sdw-wsrest.ecb.europa.eu/service/data/EXR/D.\" + Cfrom + \".\" + Cto + \".SP00.A\") as url:\n",
    "        raw = parse(url.read().decode('utf8'))\n",
    "    data = raw['message:GenericData']['message:DataSet']['generic:Series']['generic:Obs']\n",
    "    dates = [x['generic:ObsDimension']['@value'] for x in data]\n",
    "    rates = [float(x['generic:ObsValue']['@value']) for x in data]\n",
    "    return pd.DataFrame({'Date': dates, 'Rate': rates})\n",
    "\n",
    "CADEUR = QueryECB('CAD', 'EUR')\n",
    "CADEUR"
   ]
  },
  {
   "cell_type": "code",
   "execution_count": 58,
   "metadata": {},
   "outputs": [
    {
     "data": {
      "text/plain": [
       "<AxesSubplot:xlabel='Date'>"
      ]
     },
     "execution_count": 58,
     "metadata": {},
     "output_type": "execute_result"
    },
    {
     "data": {
      "image/png": "[encoded data removed]",
      "text/plain": [
       "<Figure size 1296x288 with 1 Axes>"
      ]
     },
     "metadata": {
      "needs_background": "light"
     },
     "output_type": "display_data"
    }
   ],
   "source": [
    "CADEUR.plot(figsize=(18,4), x = 'Date', y = 'Rate')"
   ]
  }
 ],
 "metadata": {
  "kernelspec": {
   "display_name": "Python 3.8.10 64-bit",
   "language": "python",
   "name": "python3"
  },
  "language_info": {
   "codemirror_mode": {
    "name": "ipython",
    "version": 3
   },
   "file_extension": ".py",
   "mimetype": "text/x-python",
   "name": "python",
   "nbconvert_exporter": "python",
   "pygments_lexer": "ipython3",
   "version": "3.8.10"
  },
  "orig_nbformat": 4,
  "vscode": {
   "interpreter": {
    "hash": "916dbcbb3f70747c44a77c7bcd40155683ae19c65e1c03b4aa3499c5328201f1"
   }
  }
 },
 "nbformat": 4,
 "nbformat_minor": 2
}
