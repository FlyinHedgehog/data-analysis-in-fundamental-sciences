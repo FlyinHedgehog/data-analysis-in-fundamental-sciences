{
 "cells": [
  {
   "cell_type": "markdown",
   "metadata": {},
   "source": [
    "# Calculating an Approximate Value for $\\pi$ Using Random Numbers"
   ]
  },
  {
   "cell_type": "markdown",
   "metadata": {},
   "source": [
    "_The probability that a uniformly randomly chosen point in the square determined by $(0,0)$ and $(1,1)$ that lies in the quarter of a  disk $x^2+y^2\\leq 1$ is $\\frac{\\pi}{4}$._"
   ]
  },
  {
   "cell_type": "code",
   "execution_count": 1,
   "metadata": {},
   "outputs": [],
   "source": [
    "import numpy as np"
   ]
  },
  {
   "cell_type": "code",
   "execution_count": 2,
   "metadata": {},
   "outputs": [
    {
     "data": {
      "text/plain": [
       "3.140396"
      ]
     },
     "execution_count": 2,
     "metadata": {},
     "output_type": "execute_result"
    }
   ],
   "source": [
    "count = 0\n",
    "N = 10**6\n",
    "for i in range(N):\n",
    "    x = np.random.rand()\n",
    "    y = np.random.rand()\n",
    "    if(x**2 + y**2 <= 1):\n",
    "        count = count + 1\n",
    "\n",
    "count*4/N"
   ]
  },
  {
   "cell_type": "code",
   "execution_count": 3,
   "metadata": {},
   "outputs": [
    {
     "data": {
      "text/plain": [
       "3.140244"
      ]
     },
     "execution_count": 3,
     "metadata": {},
     "output_type": "execute_result"
    }
   ],
   "source": [
    "count = 0\n",
    "N = 10**6\n",
    "points = np.random.rand(N,2)\n",
    "for i in range(N):\n",
    "    if(points[i,0]**2 + points[i,1]**2 <= 1):\n",
    "        count = count + 1\n",
    "\n",
    "count*4/N"
   ]
  },
  {
   "cell_type": "code",
   "execution_count": 4,
   "metadata": {},
   "outputs": [
    {
     "data": {
      "text/plain": [
       "3.04"
      ]
     },
     "execution_count": 4,
     "metadata": {},
     "output_type": "execute_result"
    }
   ],
   "source": [
    "def circle(x, y):\n",
    "    return(x**2 + y**2 <= 1)\n",
    "\n",
    "N = 1000\n",
    "points = np.random.rand(N, 2)\n",
    "count = len([0 for i in range(N) if circle(points[i, 0], points[i, 1])])\n",
    "\n",
    "count*4/N"
   ]
  },
  {
   "cell_type": "code",
   "execution_count": 5,
   "metadata": {},
   "outputs": [
    {
     "data": {
      "text/plain": [
       "3.132"
      ]
     },
     "execution_count": 5,
     "metadata": {},
     "output_type": "execute_result"
    }
   ],
   "source": [
    "def area(N, fn):\n",
    "    points = np.random.rand(N, 2)\n",
    "    count = len([1 for i in range(N) if fn(points[i, 0], points[i, 1])])\n",
    "    return(count/N)\n",
    "\n",
    "4*area(1000, circle)"
   ]
  },
  {
   "cell_type": "code",
   "execution_count": 6,
   "metadata": {},
   "outputs": [
    {
     "data": {
      "text/plain": [
       "3.152"
      ]
     },
     "execution_count": 6,
     "metadata": {},
     "output_type": "execute_result"
    }
   ],
   "source": [
    "area(5000, lambda x,y: x**2+y**2<=1)*4"
   ]
  },
  {
   "cell_type": "markdown",
   "metadata": {},
   "source": [
    "***"
   ]
  },
  {
   "cell_type": "code",
   "execution_count": 7,
   "metadata": {},
   "outputs": [
    {
     "data": {
      "text/plain": [
       "0.482"
      ]
     },
     "execution_count": 7,
     "metadata": {},
     "output_type": "execute_result"
    }
   ],
   "source": [
    "def triangle(x,y):\n",
    "    return(x+y<=1)\n",
    "\n",
    "area(1000, triangle)"
   ]
  },
  {
   "cell_type": "code",
   "execution_count": 8,
   "metadata": {},
   "outputs": [
    {
     "data": {
      "text/plain": [
       "0.522"
      ]
     },
     "execution_count": 8,
     "metadata": {},
     "output_type": "execute_result"
    }
   ],
   "source": [
    "def line(x,y):\n",
    "    return(y<=x)\n",
    "\n",
    "area(1000, line)"
   ]
  }
 ],
 "metadata": {
  "kernelspec": {
   "display_name": "Python 3.8.10 64-bit",
   "language": "python",
   "name": "python3"
  },
  "language_info": {
   "codemirror_mode": {
    "name": "ipython",
    "version": 3
   },
   "file_extension": ".py",
   "mimetype": "text/x-python",
   "name": "python",
   "nbconvert_exporter": "python",
   "pygments_lexer": "ipython3",
   "version": "3.8.10"
  },
  "orig_nbformat": 4,
  "vscode": {
   "interpreter": {
    "hash": "916dbcbb3f70747c44a77c7bcd40155683ae19c65e1c03b4aa3499c5328201f1"
   }
  }
 },
 "nbformat": 4,
 "nbformat_minor": 2
}
